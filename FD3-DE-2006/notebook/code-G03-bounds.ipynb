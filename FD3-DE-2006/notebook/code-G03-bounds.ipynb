{
 "cells": [
  {
   "cell_type": "raw",
   "metadata": {},
   "source": [
    "一、不同随机搜索算法的实现："
   ]
  },
  {
   "cell_type": "code",
   "execution_count": 1,
   "metadata": {},
   "outputs": [],
   "source": [
    "import math\n",
    "from scipy.optimize import minimize\n",
    "import numpy as np\n",
    "from matplotlib import pyplot as plt"
   ]
  },
  {
   "cell_type": "code",
   "execution_count": 2,
   "metadata": {},
   "outputs": [],
   "source": [
    "bounds = [(0, 1), (0, 1), (0, 1), (0, 1), (0, 1), (0, 1), (0, 1), (0, 1), (0, 1), (0, 1)]\n",
    "x_opt = [0.31624357647283069, 0.316243577414338339, 0.316243578012345927, 0.316243575664017895, 0.316243578205526066,\n",
    "         0.31624357738855069, 0.316243575472949512, 0.316243577164883938, 0.316243578155920302, 0.316243576147374916]\n",
    "y_opt = -1.00050010001000\n",
    "\n",
    "\n",
    "def G03(X):\n",
    "    n = 10\n",
    "    x_mul = 1\n",
    "    x_2_sum = 0.0\n",
    "    for i in range(n):\n",
    "        x_mul *= X[i]\n",
    "        x_2_sum += X[i] * X[i]\n",
    "    y = -((math.sqrt(n)) ** n) * x_mul\n",
    "    h1 = x_2_sum - 1 - 0.0001\n",
    "\n",
    "    return y, h1"
   ]
  },
  {
   "cell_type": "code",
   "execution_count": 3,
   "metadata": {},
   "outputs": [
    {
     "data": {
      "image/png": "[encoded data removed]",
      "text/plain": [
       "<Figure size 432x288 with 1 Axes>"
      ]
     },
     "metadata": {
      "needs_background": "light"
     },
     "output_type": "display_data"
    }
   ],
   "source": [
    "pN = 5000\n",
    "dim = 10\n",
    "keth = 0.5\n",
    "eta = 0.5\n",
    "X = np.zeros((pN, dim))\n",
    "fmax = 100000\n",
    "vmax = 8.9999\n",
    "for i in range(pN):\n",
    "    for j in range(dim):\n",
    "        X[i][j] = bounds[j][0]+(bounds[j][1]-bounds[j][0])*np.random.random()\n",
    "\n",
    "fs = []    \n",
    "Vs = []\n",
    "for i in range(pN):\n",
    "    for j in range(i+1,pN):\n",
    "\n",
    "        deltaf = G03(X[i])[0] - G03(X[j])[0]\n",
    "        delraV = np.sum(G03(X[i])[1:2])-np.sum(G03(X[j])[1:2])\n",
    "        fs.append(deltaf)\n",
    "        Vs.append(delraV)\n",
    "\n",
    "plt.scatter(fs,Vs,s=1)\n",
    "plt.axhline(y=vmax, xmin=-fmax, xmax=fmax, color = \"black\", ls=\"--\", lw=\"1\")\n",
    "plt.axhline(y=-vmax, xmin=-fmax, xmax=fmax, color = \"black\",ls=\"--\", lw=\"1\")\n",
    "plt.axhline(y=vmax*keth, xmin=-fmax, xmax=fmax, color = \"black\",ls=\"--\", lw=\"1\")\n",
    "plt.axhline(y=-vmax*keth, xmin=-fmax, xmax=fmax, color = \"black\",ls=\"--\", lw=\"1\")\n",
    "plt.axhline(y=vmax*keth*eta, xmin=-fmax, xmax=fmax, color = \"black\",ls=\"--\", lw=\"1\")\n",
    "plt.axhline(y=-vmax*keth*eta, xmin=-fmax, xmax=fmax, color = \"black\",ls=\"--\", lw=\"1\")\n",
    "plt.axhline(y=0, xmin=-fmax, xmax=fmax, color = \"red\", ls=\"-\", lw=\"1\")\n",
    "\n",
    "plt.axvline(x=fmax, ymin=-vmax, ymax=vmax, color = \"black\",ls=\"--\", lw=\"1\")\n",
    "plt.axvline(x=-fmax, ymin=-vmax, ymax=vmax, color = \"black\",ls=\"--\", lw=\"1\")\n",
    "plt.axvline(x=fmax*eta, ymin=-vmax, ymax=vmax, color = \"black\",ls=\"--\", lw=\"1\")\n",
    "plt.axvline(x=-fmax*eta, ymin=-vmax, ymax=vmax, color = \"black\",ls=\"--\", lw=\"1\")\n",
    "plt.axvline(x=0, ymin=-vmax, ymax=vmax, color = \"red\",ls=\"-\", lw=\"1\")\n",
    "\n",
    "plt.show()"
   ]
  },
  {
   "cell_type": "code",
   "execution_count": null,
   "metadata": {},
   "outputs": [],
   "source": []
  }
 ],
 "metadata": {
  "kernelspec": {
   "display_name": "Python 3",
   "language": "python",
   "name": "python3"
  },
  "language_info": {
   "codemirror_mode": {
    "name": "ipython",
    "version": 3
   },
   "file_extension": ".py",
   "mimetype": "text/x-python",
   "name": "python",
   "nbconvert_exporter": "python",
   "pygments_lexer": "ipython3",
   "version": "3.7.0"
  }
 },
 "nbformat": 4,
 "nbformat_minor": 4
}
