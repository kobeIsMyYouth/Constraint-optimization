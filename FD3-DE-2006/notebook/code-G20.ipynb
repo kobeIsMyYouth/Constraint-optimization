{
 "cells": [
  {
   "cell_type": "raw",
   "metadata": {},
   "source": [
    "一、不同随机搜索算法的实现："
   ]
  },
  {
   "cell_type": "code",
   "execution_count": 1,
   "metadata": {},
   "outputs": [],
   "source": [
    "import math\n",
    "from scipy.optimize import minimize\n",
    "import numpy as np"
   ]
  },
  {
   "cell_type": "code",
   "execution_count": 2,
   "metadata": {},
   "outputs": [],
   "source": [
    "### tools：\n",
    "\n",
    "def minfunction(f, x0, bounds):\n",
    "    \"\"\"\n",
    "    求一个函数在边界内的最小值\n",
    "    f：函数\n",
    "    x0：初始值\n",
    "    bounds：边界条件。[(min, max),...]\n",
    "    \"\"\"\n",
    "    res = minimize(f, x0, method='SLSQP', bounds=bounds)\n",
    "    return res\n",
    "\n",
    "def maxfunction(f, x0, bounds):\n",
    "    \"\"\"\n",
    "    求一个函数在边界内的最大值\n",
    "    f：函数\n",
    "    x0：初始值\n",
    "    bounds：边界条件。[(min, max),...]\n",
    "    \"\"\"\n",
    "    fun = lambda X : -f(X)\n",
    "    res = minimize(fun, x0, method='SLSQP', bounds=bounds)\n",
    "    return res\n"
   ]
  },
  {
   "cell_type": "code",
   "execution_count": 3,
   "metadata": {},
   "outputs": [],
   "source": [
    "### 目标函数：\n",
    "bounds = [(0,10),(0,10),(0,10),(0,10),(0,10),(0,10),\n",
    "          (0,10),(0,10),(0,10),(0,10),(0,10),(0,10),\n",
    "          (0,10),(0,10),(0,10),(0,10),(0,10),(0,10),\n",
    "          (0,10),(0,10),(0,10),(0,10),(0,10),(0,10)]\n",
    "x_opt = [1.28582343498528086e-18, 4.83460302526130664e-34, 0, 0, 6.30459929660781851e-18, \n",
    "         7.57192526201145068e-34, 5.03350698372840437e-34,9.28268079616618064e-34, \n",
    "         0, 1.76723384525547359e-17, 3.55686101822965701e-34, 2.99413850083471346e-34, \n",
    "         0.158143376337580827, 2.29601774161699833e-19, 1.06106938611042947e-18, 1.31968344319506391e-18, \n",
    "         0.530902525044209539, 0, 2.89148310257773535e-18,3.34892126180666159e-18, 0, \n",
    "         0.310999974151577319, 5.41244666317833561e-05, 4.84993165246959553e-16]\n",
    "y_opt = 0.2049794002\n",
    "def G20(X):\n",
    "    a = [0.0693, 0.0577, 0.05, 0.2, 0.26, 0.55, 0.06, 0.1, 0.12, 0.18,\n",
    "        0.1,0.09,0.0693,0.0577,0.05,0.2,0.26,0.55,0.06,0.1,0.12,0.18,\n",
    "        0.1,0.09]\n",
    "    b = [44.094, 58.12, 58.12, 137.4, 120.9, 170.9, 62.501, 84.94, 133.425,\n",
    "        82.507,46.07,60.097,44.094,58.12,58.12,137.4,120.9,170.9,62.501,84.94,\n",
    "        133.425,82.507,46.07,60.097]\n",
    "    c = [123.7,31.7,45.7,14.7,84.7,27.7,49.7,7.1,2.1,17.7,0.85,0.64]\n",
    "    d = [31.244,36.12,34.784,92.7,82.7,91.6,56.708,82.7,80.8,64.517,49.4,49.1]\n",
    "    e = [0.1,0.3,0.4,0.3,0.6,0.3]\n",
    "    y = 0.0\n",
    "    for i in range(24):\n",
    "        y = y + a[i]*X[i]\n",
    "    g1 = (X[0]+X[12]) / (np.sum(X) + e[0])\n",
    "    g2 = (X[1]+X[13]) / (np.sum(X) + e[1])\n",
    "    g3 = (X[2]+X[14]) / (np.sum(X) + e[2])\n",
    "    g4 = (X[6]+X[18]) / (np.sum(X) + e[3])\n",
    "    g5 = (X[7]+X[19]) / (np.sum(X) + e[4])\n",
    "    g6 = (X[8]+X[20]) / (np.sum(X) + e[5])\n",
    "    tmp1 = 0.0\n",
    "    tmp2 = 0.0\n",
    "    for j in range(12,24):\n",
    "        tmp1 = tmp1 + X[j]/b[j]\n",
    "    for j in range(12):\n",
    "        tmp2 = tmp2 + X[j]/b[j]\n",
    "        \n",
    "    h1 = abs(X[12] / (b[12]*tmp1) - c[0]*X[0] / (40*b[0]*tmp2))-0.0001\n",
    "   \n",
    "    h2 = abs(X[13] / (b[13]*tmp1) - c[1]*X[1] / (40*b[1]*tmp2))-0.0001\n",
    "   \n",
    "    h3 = abs(X[14] / (b[14]*tmp1) - c[2]*X[2] / (40*b[2]*tmp2))-0.0001\n",
    " \n",
    "    h4 = abs(X[15] / (b[15]*tmp1) - c[3]*X[3] / (40*b[3]*tmp2))-0.0001\n",
    "    \n",
    "    h5 = abs(X[16] / (b[16]*tmp1) - c[4]*X[4] / (40*b[4]*tmp2))-0.0001\n",
    "\n",
    "    h6 = abs(X[17] / (b[17]*tmp1) - c[5]*X[5] / (40*b[5]*tmp2))-0.0001\n",
    "   \n",
    "    h7 = abs(X[18] / (b[18]*tmp1) - c[6]*X[6] / (40*b[6]*tmp2))-0.0001\n",
    "   \n",
    "    h8 = abs(X[19] / (b[19]*tmp1) - c[7]*X[7] / (40*b[7]*tmp2))-0.0001\n",
    "   \n",
    "    h9 = abs(X[20] / (b[20]*tmp1) - c[8]*X[8] / (40*b[8]*tmp2))-0.0001\n",
    "    \n",
    "    h10 = abs(X[21] / (b[21]*tmp1) - c[9]*X[9] / (40*b[9]*tmp2))-0.0001\n",
    "    \n",
    "    h11 = abs(X[22] / (b[22]*tmp1) - c[10]*X[10] / (40*b[10]*tmp2))-0.0001\n",
    "   \n",
    "    h12 = abs(X[23] / (b[23]*tmp1) - c[11]*X[11] / (40*b[11]*tmp2))-0.0001\n",
    "  \n",
    "    h13 = abs(np.sum(X)-1) - 0.0001\n",
    "\n",
    "    tmp3 = 0.0\n",
    "    tmp4 = 0.0\n",
    "    for i in range(12):\n",
    "        tmp3 = tmp3 + X[i]/d[i]\n",
    "    \n",
    "    for i in range(12,24):\n",
    "        tmp4 = tmp4 + X[i]/b[i]\n",
    "    h14 = abs(tmp3 + 0.7320*530*14.7*tmp4/40-1.671)-0.0001\n",
    "    \n",
    "    return y,g1,g2,g3,g4,g5,g6,h1,h2,h3,h4,h5,h6,h7,h8,h9,h10,h11,h12,h13,h14"
   ]
  },
  {
   "cell_type": "code",
   "execution_count": 4,
   "metadata": {},
   "outputs": [],
   "source": [
    "# y = lambda X : G20(X)[0]\n",
    "# g1 = lambda X : G20(X)[1]\n",
    "# g4 = lambda X : G20(X)[4]\n",
    "# h1 = lambda X : G20(X)[7]\n",
    "# h13 = lambda X : G20(X)[31]\n",
    "# h14 = lambda X : G20(X)[33]\n",
    "# x0 = [0 for i in range(24)]\n",
    "# x0 = [5 for i in range(24)]\n",
    "# x0 = [10 for i in range(24)]"
   ]
  },
  {
   "cell_type": "code",
   "execution_count": 5,
   "metadata": {},
   "outputs": [],
   "source": [
    "# maxfunction(h14,x0,bounds)"
   ]
  },
  {
   "cell_type": "code",
   "execution_count": 6,
   "metadata": {},
   "outputs": [],
   "source": [
    "# 0.9950248756218905*3+0.9852216748768473*3+0.9998999999999999*12+238.9999+234.6772943705733"
   ]
  },
  {
   "cell_type": "code",
   "execution_count": 7,
   "metadata": {},
   "outputs": [],
   "source": [
    "### 适应度函数\n",
    "def fitnessG20_num(X):\n",
    "    \"\"\"\n",
    "    problem1关于数量惩罚的适应度函数\n",
    "    X: 对应的解\n",
    "    epsion：惩罚系数大于fmax-fmin的倍数\n",
    "    \"\"\"\n",
    "    fmax = 36.74\n",
    "    fmin = 0.008509619375000003\n",
    "    count = np.sum(np.array(problem1(X))[1:5]>0)\n",
    "    \n",
    "    return -(problem1(X)[0]+epsion*(fmax-fmin)*count)  \n",
    "\n",
    "def fitnessG20_vio(X):\n",
    "    \"\"\"\n",
    "    problem1关于数量惩罚的适应度函数\n",
    "    X: 对应的解\n",
    "    epsion：惩罚系数大于fmax-fmin的倍数\n",
    "    \"\"\"\n",
    "    fmax = 36.74\n",
    "    fmin = 0\n",
    "    vmax = 491.6167340220695\n",
    "    e = 0.0001\n",
    "    n = 34\n",
    "    \n",
    "    res = G20(X)\n",
    "    fitness = -res[0]\n",
    "    count = np.sum(np.array(res)[1:22]>0)\n",
    "    \n",
    "    \n",
    "    if count > 0:\n",
    "        for i in range(1,len(res)):\n",
    "            if res[i] > 0:\n",
    "                cathy = (fmax - fmin)*(e*vmax*n/count+res[i])/(e*vmax)\n",
    "                fitness = fitness - cathy\n",
    "    return fitness   "
   ]
  },
  {
   "cell_type": "code",
   "execution_count": 8,
   "metadata": {},
   "outputs": [],
   "source": [
    "### PSO\n",
    "class PSO_fit():\n",
    "    def __init__(self, pN, dim, max_iter, bounds):\n",
    "        self.wmax = 0.8 #最大的惯性权重\n",
    "        self.wmin = 0.4 #最小的惯性权重\n",
    "        self.c1 = 2  #加速因子\n",
    "        self.c2 = 2  #加速因子\n",
    "        self.pN = pN  # 粒子数量\n",
    "        self.dim = dim  # 搜索维度\n",
    "        self.max_iter = max_iter  # 迭代次数\n",
    "        self.bounds = bounds\n",
    "        \n",
    "        self.X = np.zeros((self.pN, self.dim))  # 所有粒子的位置：一个pN*dim的矩阵\n",
    "        self.V = np.zeros((self.pN, self.dim))  # 左右粒子的速度：一个pN*dim的矩阵\n",
    "        self.pbest = np.zeros((self.pN, self.dim))  # 个体经历的最佳位置：一个pN*dim的矩阵\n",
    "        self.gbest = np.zeros((self.pN, self.dim))      # 全局最佳位置：一个pN*dim的矩阵\n",
    "        self.p_fit = np.full(self.pN,-10.0e+28)  # 每个个体的历史最佳适应值\n",
    "        self.g_fit = np.full(self.pN,-10.0e+28)    # 全局最佳适应值\n",
    "    \n",
    "    def init_Population(self):\n",
    "        \"\"\"\n",
    "        初始化种群\n",
    "        :return:\n",
    "        \"\"\"\n",
    "        \n",
    "        for i in range(self.pN):\n",
    "            for j in range(self.dim):\n",
    "                self.X[i][j] = self.bounds[j][0] + (self.bounds[j][1] - self.bounds[j][0]) * np.random.random()\n",
    "                self.V[i][j] = self.bounds[j][0] + (self.bounds[j][1] - self.bounds[j][0]) * np.random.random()\n",
    "        for i in range(self.pN):\n",
    "            tmp = fitnessG20_vio(self.X[i])\n",
    "            if (tmp > self.p_fit[i]):\n",
    "                self.p_fit[i] = tmp\n",
    "                self.pbest[i] = self.X[i]\n",
    "                \n",
    "        for i in range(self.pN):\n",
    "            indexes = np.random.randint(low=0,high=self.pN,size=int(self.pN/1500))\n",
    "            for j in indexes:\n",
    "                if self.p_fit[j] > self.g_fit[i]:\n",
    "                    self.g_fit[i] = self.p_fit[j]\n",
    "                    self.gbest[i] = self.pbest[j]\n",
    "\n",
    "#             self.pbest[i] = self.X[i]\n",
    "#             tmp = fitnessG01_num(self.X[i])\n",
    "#             self.p_fit[i] = tmp\n",
    "#             if (tmp > self.fit):\n",
    "#                 self.fit = tmp\n",
    "#                 self.gbest = self.X[i]\n",
    "        \n",
    "    def iterator(self):\n",
    "        \"\"\"\n",
    "        迭代\n",
    "        \"\"\"\n",
    "        for t in range(self.max_iter):\n",
    "#             w = self.wmin + (self.wmax - self.wmin) * np.exp(- (4 * t / self.max_iter) * (4 * t / self.max_iter))\n",
    "            w = 0.85\n",
    "            for i in range(self.pN):\n",
    "                self.V[i] = w*self.V[i]+self.c1*np.random.random()*(self.pbest[i]-self.X[i])+self.c2*np.random.random()*(self.gbest[i]-self.X[i])\n",
    "                self.X[i] = self.X[i] + self.V[i]\n",
    "                \n",
    "                \"\"\"\n",
    "                控制在搜索范围内\n",
    "                \"\"\" \n",
    "                for j in range(self.dim):\n",
    "                    if self.X[i][j] < self.bounds[j][0]:\n",
    "                        self.X[i][j] = self.bounds[j][0] + 0.1e-33*np.random.random()\n",
    "                    if self.X[i][j] > self.bounds[j][1]:\n",
    "                        self.X[i][j] = self.bounds[j][1] - + 0.1e-33*np.random.random()\n",
    "                if np.sum(self.X[i][0:12])==0:\n",
    "                    tmp1 = np.random.randint(0,12)\n",
    "                    self.X[i][tmp1] = 0.1e-33*np.random.random()\n",
    "                if np.sum(self.X[i][12:24])==0:\n",
    "                    tmp2 = np.random.randint(12,24)\n",
    "                    self.X[i][tmp2] = 0.1e-33*np.random.random()\n",
    "                    \n",
    "            for i in range(self.pN):\n",
    "                tmp = fitnessG20_vio(self.X[i])\n",
    "                if (tmp > self.p_fit[i]):\n",
    "                    self.p_fit[i] = tmp\n",
    "                    self.pbest[i] = self.X[i]\n",
    "            for i in range(self.pN):\n",
    "                indexes = np.random.randint(low=0,high=self.pN,size=int(self.pN/1500))\n",
    "                for j in indexes:\n",
    "                    if self.p_fit[j] > self.g_fit[i]:\n",
    "                        self.g_fit[i] = self.p_fit[j]\n",
    "                        self.gbest[i] = self.pbest[j]\n",
    "            print(self.g_fit)  \n",
    "        return self.gbest, self.g_fit"
   ]
  },
  {
   "cell_type": "code",
   "execution_count": 9,
   "metadata": {},
   "outputs": [],
   "source": [
    "PSO = PSO_fit(pN=15000, dim=24, max_iter=10, bounds=bounds)"
   ]
  },
  {
   "cell_type": "code",
   "execution_count": 10,
   "metadata": {},
   "outputs": [],
   "source": [
    "PSO.init_Population()"
   ]
  },
  {
   "cell_type": "code",
   "execution_count": 11,
   "metadata": {},
   "outputs": [
    {
     "name": "stdout",
     "output_type": "stream",
     "text": [
      "[-124821.16097903 -129196.26873147 -135523.00627323 ... -134849.14628776\n",
      " -121695.66922754 -135802.2420044 ]\n",
      "[ -94329.65087786  -86502.70693635 -114348.10459051 ...  -79219.37873136\n",
      "  -68515.76914414  -47836.11636214]\n",
      "[-12083.50235251 -18396.99285346 -22679.20272148 ... -25604.72085555\n",
      " -30426.88701993 -15333.40487668]\n",
      "[ -7819.98960711  -8426.40161958  -4281.77675362 ...  -4644.72834905\n",
      "  -3809.86074401 -10231.7899696 ]\n",
      "[-3839.97527813 -3289.94908901 -2387.02955141 ... -4029.42706824\n",
      " -3798.06130787 -3907.11903734]\n",
      "[-3693.81464658 -3083.16753389 -2387.02955141 ... -3560.72888952\n",
      " -3722.87459312 -3567.33177371]\n",
      "[-3593.12901576 -2626.50372417 -2387.02955141 ... -3146.63140529\n",
      " -3289.96485512 -3567.33177371]\n",
      "[-2939.58410408 -2626.50372417 -2387.02955141 ... -3114.40358752\n",
      " -3049.69799938 -3567.33177371]\n",
      "[-2644.00414176 -2573.27125964 -2387.02955141 ... -2966.22285809\n",
      " -2883.76878603 -2753.20098913]\n",
      "[-2625.15019946 -2573.27125964 -2387.02955141 ... -2840.1957755\n",
      " -2798.56625845 -2604.02603407]\n",
      "CPU times: user 44.2 s, sys: 683 ms, total: 44.9 s\n",
      "Wall time: 44.4 s\n"
     ]
    },
    {
     "data": {
      "text/plain": [
       "(array([[6.87441427e-35, 5.66159804e-35, 4.21665681e-01, ...,\n",
       "         3.07118489e-36, 1.98586108e-35, 8.23518186e-35],\n",
       "        [7.47675701e-35, 8.47396326e-35, 2.81034487e-35, ...,\n",
       "         5.71851031e-35, 8.92475713e-35, 6.53658961e-35],\n",
       "        [5.89455941e-35, 2.05307139e-35, 9.24634624e-35, ...,\n",
       "         8.36536850e-01, 8.99026641e-35, 4.28241759e-35],\n",
       "        ...,\n",
       "        [1.76989455e-35, 4.11772023e-35, 9.68584346e-35, ...,\n",
       "         3.62300536e-35, 4.77082190e-35, 7.16643710e-01],\n",
       "        [1.23006415e-35, 3.06484155e-35, 6.10091042e-35, ...,\n",
       "         6.18622434e-35, 3.78133897e-35, 2.23552438e-35],\n",
       "        [1.23001993e-35, 1.81222810e-35, 5.94201532e-35, ...,\n",
       "         5.48529404e-35, 5.15807417e-35, 7.00113063e-35]]),\n",
       " array([-2625.15019946, -2573.27125964, -2387.02955141, ...,\n",
       "        -2840.1957755 , -2798.56625845, -2604.02603407]))"
      ]
     },
     "execution_count": 11,
     "metadata": {},
     "output_type": "execute_result"
    }
   ],
   "source": [
    "%%time\n",
    "PSO.iterator()"
   ]
  },
  {
   "cell_type": "code",
   "execution_count": 12,
   "metadata": {},
   "outputs": [
    {
     "data": {
      "text/plain": [
       "array([6.87441427e-35, 5.66159804e-35, 4.21665681e-01, 9.40947919e-35,\n",
       "       4.47372809e-35, 9.29955804e-35, 4.21859254e-35, 2.52376083e-35,\n",
       "       9.07761489e-35, 2.29957555e-35, 3.07993751e-35, 2.78114658e-36,\n",
       "       8.72626482e-35, 6.30446169e-35, 9.16911116e-01, 7.96394515e-35,\n",
       "       1.64584265e-35, 6.16598957e-35, 7.65245474e-36, 9.40863284e-35,\n",
       "       8.93944337e-35, 3.07118489e-36, 1.98586108e-35, 8.23518186e-35])"
      ]
     },
     "execution_count": 12,
     "metadata": {},
     "output_type": "execute_result"
    }
   ],
   "source": [
    "PSO.gbest[0]"
   ]
  },
  {
   "cell_type": "code",
   "execution_count": 13,
   "metadata": {},
   "outputs": [
    {
     "data": {
      "text/plain": [
       "(0.0669288398513671,\n",
       " 1.0844522950734835e-34,\n",
       " 7.302715231615763e-35,\n",
       " 0.7699267580909114,\n",
       " 3.0415651096922283e-35,\n",
       " 6.155233923819354e-35,\n",
       " 1.0995553149763e-34,\n",
       " -0.0001,\n",
       " -0.0001,\n",
       " 0.14240000000000008,\n",
       " -0.0001,\n",
       " -0.0001,\n",
       " -0.0001,\n",
       " -0.0001,\n",
       " -0.0001,\n",
       " -0.0001,\n",
       " -0.0001,\n",
       " -0.0001,\n",
       " -0.0001,\n",
       " 0.3384767970273419,\n",
       " 0.5903148568776353)"
      ]
     },
     "execution_count": 13,
     "metadata": {},
     "output_type": "execute_result"
    }
   ],
   "source": [
    "G20(PSO.gbest[0])"
   ]
  },
  {
   "cell_type": "code",
   "execution_count": null,
   "metadata": {},
   "outputs": [],
   "source": []
  }
 ],
 "metadata": {
  "kernelspec": {
   "display_name": "Python 3",
   "language": "python",
   "name": "python3"
  },
  "language_info": {
   "codemirror_mode": {
    "name": "ipython",
    "version": 3
   },
   "file_extension": ".py",
   "mimetype": "text/x-python",
   "name": "python",
   "nbconvert_exporter": "python",
   "pygments_lexer": "ipython3",
   "version": "3.7.10"
  }
 },
 "nbformat": 4,
 "nbformat_minor": 4
}
