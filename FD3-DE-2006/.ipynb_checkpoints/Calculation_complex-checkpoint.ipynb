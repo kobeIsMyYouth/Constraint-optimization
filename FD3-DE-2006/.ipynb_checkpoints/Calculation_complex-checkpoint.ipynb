{
 "cells": [
  {
   "cell_type": "code",
   "execution_count": 1,
   "metadata": {},
   "outputs": [],
   "source": [
    "from functions import G01\n",
    "from functions import G02\n",
    "from functions import G03\n",
    "from functions import G04\n",
    "from functions import G05\n",
    "from functions import G06\n",
    "from functions import G07\n",
    "from functions import G08\n",
    "from functions import G09\n",
    "from functions import G10\n",
    "from functions import G11\n",
    "from functions import G12\n",
    "from functions import G13\n",
    "from functions import G14\n",
    "from functions import G15\n",
    "from functions import G16\n",
    "from functions import G17\n",
    "from functions import G18\n",
    "from functions import G19\n",
    "from functions import G20\n",
    "from functions import G21\n",
    "from functions import G22\n",
    "from functions import G23\n",
    "from functions import G24\n",
    "from algorithms import DE_com_pre\n",
    "from algorithms import myDE_fit_pre"
   ]
  },
  {
   "cell_type": "code",
   "execution_count": 2,
   "metadata": {
    "pycharm": {
     "name": "#%%\n"
    }
   },
   "outputs": [],
   "source": [
    "G = [G01, G02, G03, G04, G05, G06, G07, G08, G09, G10,\n",
    "     G11, G12, G13, G14, G15, G16, G17, G18, G19, G20,\n",
    "     G21, G22, G23, G24]"
   ]
  },
  {
   "cell_type": "code",
   "execution_count": 3,
   "metadata": {
    "pycharm": {
     "name": "#%%\n"
    }
   },
   "outputs": [],
   "source": [
    "DE_coms0 = []\n",
    "DE_coms1 = []\n",
    "DE_fits = []\n",
    "for i in range(24):\n",
    "    d1 = myDE_fit_pre.DE(40, G[i].dim, 250, G[i], 0.7, 0.9, 5, 0.00000001)\n",
    "    d1.init_Population()\n",
    "    DE_fits.append(d1)\n",
    "    d2 = DE_com_pre.DE(40, G[i].dim, 250, G[i], 3, 0, 50, 0.7, 0.9, 5)\n",
    "    d2.init_Population()\n",
    "    DE_coms0.append(d2)\n",
    "    d3 = DE_com_pre.DE(40, G[i].dim, 250, G[i], 3, 1, 50, 0.7, 0.9, 5)\n",
    "    d3.init_Population()\n",
    "    DE_coms1.append(d3)"
   ]
  },
  {
   "cell_type": "code",
   "execution_count": 4,
   "metadata": {},
   "outputs": [
    {
     "name": "stdout",
     "output_type": "stream",
     "text": [
      "Wall time: 3.74 s\n"
     ]
    }
   ],
   "source": [
    "%%time\n",
    "for i in range(24):\n",
    "    for j in range(10000):\n",
    "        G[i].f(G[i].x_opt)"
   ]
  },
  {
   "cell_type": "code",
   "execution_count": 5,
   "metadata": {
    "pycharm": {
     "name": "#%%\n"
    }
   },
   "outputs": [
    {
     "name": "stderr",
     "output_type": "stream",
     "text": [
      "E:\\Fu\\FD3\\functions\\G14.py:17: RuntimeWarning: invalid value encountered in log\n",
      "  y = np.sum([X[i]*(c[i]+np.log(X[i]/(X[0]+X[1]+X[2]+X[3]+X[4]+X[5]+X[6]+X[7]+X[8]+X[9]))) for i in range(10)])\n",
      "E:\\Fu\\FD3\\functions\\G21.py:14: RuntimeWarning: invalid value encountered in double_scalars\n",
      "  g1 = -X[0] + 35 * X[1] ** 0.6 + 35 * X[2] ** 0.6\n",
      "E:\\Fu\\FD3\\functions\\G21.py:23: RuntimeWarning: invalid value encountered in log\n",
      "  h5 = abs(-X[6] + np.log(-2 * X[3] + 700)) - 0.0001\n",
      "E:\\Fu\\FD3\\functions\\G22.py:45: RuntimeWarning: invalid value encountered in log\n",
      "  h16 = abs(-X[21] + np.log(X[16])) - 0.0001\n",
      "E:\\Fu\\FD3\\functions\\G22.py:41: RuntimeWarning: invalid value encountered in log\n",
      "  h12 = abs(-X[17] + np.log(X[9] - 100.0)) - 0.0001\n",
      "E:\\Fu\\FD3\\functions\\G22.py:23: RuntimeWarning: invalid value encountered in double_scalars\n",
      "  g1 = -X[0] + X[1] ** 0.6 + X[2] ** 0.6 + X[3] ** 0.6\n",
      "E:\\Fu\\FD3\\functions\\G22.py:43: RuntimeWarning: invalid value encountered in log\n",
      "  h14 = abs(-X[19] + np.log(X[15])) - 0.0001\n",
      "E:\\Fu\\FD3\\functions\\G22.py:44: RuntimeWarning: invalid value encountered in log\n",
      "  h15 = abs(-X[20] + np.log(-X[8] + 400.0)) - 0.0001\n",
      "E:\\Fu\\FD3\\functions\\G22.py:42: RuntimeWarning: invalid value encountered in log\n",
      "  h13 = abs(-X[18] + np.log(-X[7] + 300.0)) - 0.0001\n"
     ]
    },
    {
     "name": "stdout",
     "output_type": "stream",
     "text": [
      "Wall time: 14.3 s\n"
     ]
    }
   ],
   "source": [
    "%%time\n",
    "for i in range(24):\n",
    "    DE_coms0[i].iterator()"
   ]
  },
  {
   "cell_type": "code",
   "execution_count": 6,
   "metadata": {
    "pycharm": {
     "name": "#%%\n"
    }
   },
   "outputs": [
    {
     "name": "stderr",
     "output_type": "stream",
     "text": [
      "E:\\Fu\\FD3\\functions\\G14.py:17: RuntimeWarning: invalid value encountered in log\n",
      "  y = np.sum([X[i]*(c[i]+np.log(X[i]/(X[0]+X[1]+X[2]+X[3]+X[4]+X[5]+X[6]+X[7]+X[8]+X[9]))) for i in range(10)])\n",
      "E:\\Fu\\FD3\\functions\\G21.py:14: RuntimeWarning: invalid value encountered in double_scalars\n",
      "  g1 = -X[0] + 35 * X[1] ** 0.6 + 35 * X[2] ** 0.6\n",
      "E:\\Fu\\FD3\\functions\\G21.py:23: RuntimeWarning: invalid value encountered in log\n",
      "  h5 = abs(-X[6] + np.log(-2 * X[3] + 700)) - 0.0001\n",
      "E:\\Fu\\FD3\\functions\\G22.py:23: RuntimeWarning: invalid value encountered in double_scalars\n",
      "  g1 = -X[0] + X[1] ** 0.6 + X[2] ** 0.6 + X[3] ** 0.6\n",
      "E:\\Fu\\FD3\\functions\\G22.py:45: RuntimeWarning: invalid value encountered in log\n",
      "  h16 = abs(-X[21] + np.log(X[16])) - 0.0001\n",
      "E:\\Fu\\FD3\\functions\\G22.py:41: RuntimeWarning: invalid value encountered in log\n",
      "  h12 = abs(-X[17] + np.log(X[9] - 100.0)) - 0.0001\n",
      "E:\\Fu\\FD3\\functions\\G22.py:43: RuntimeWarning: invalid value encountered in log\n",
      "  h14 = abs(-X[19] + np.log(X[15])) - 0.0001\n",
      "E:\\Fu\\FD3\\functions\\G22.py:44: RuntimeWarning: invalid value encountered in log\n",
      "  h15 = abs(-X[20] + np.log(-X[8] + 400.0)) - 0.0001\n",
      "E:\\Fu\\FD3\\functions\\G22.py:42: RuntimeWarning: invalid value encountered in log\n",
      "  h13 = abs(-X[18] + np.log(-X[7] + 300.0)) - 0.0001\n"
     ]
    },
    {
     "name": "stdout",
     "output_type": "stream",
     "text": [
      "Wall time: 14.5 s\n"
     ]
    }
   ],
   "source": [
    "%%time\n",
    "for i in range(24):\n",
    "    DE_coms1[i].iterator()"
   ]
  },
  {
   "cell_type": "code",
   "execution_count": 7,
   "metadata": {
    "pycharm": {
     "name": "#%%\n"
    }
   },
   "outputs": [
    {
     "name": "stderr",
     "output_type": "stream",
     "text": [
      "E:\\Fu\\FD3\\functions\\G14.py:17: RuntimeWarning: invalid value encountered in log\n",
      "  y = np.sum([X[i]*(c[i]+np.log(X[i]/(X[0]+X[1]+X[2]+X[3]+X[4]+X[5]+X[6]+X[7]+X[8]+X[9]))) for i in range(10)])\n",
      "E:\\Fu\\FD3\\functions\\G21.py:14: RuntimeWarning: invalid value encountered in double_scalars\n",
      "  g1 = -X[0] + 35 * X[1] ** 0.6 + 35 * X[2] ** 0.6\n",
      "E:\\Fu\\FD3\\functions\\G21.py:23: RuntimeWarning: invalid value encountered in log\n",
      "  h5 = abs(-X[6] + np.log(-2 * X[3] + 700)) - 0.0001\n",
      "E:\\Fu\\FD3\\functions\\G22.py:45: RuntimeWarning: invalid value encountered in log\n",
      "  h16 = abs(-X[21] + np.log(X[16])) - 0.0001\n",
      "E:\\Fu\\FD3\\functions\\G22.py:42: RuntimeWarning: invalid value encountered in log\n",
      "  h13 = abs(-X[18] + np.log(-X[7] + 300.0)) - 0.0001\n",
      "E:\\Fu\\FD3\\functions\\G22.py:23: RuntimeWarning: invalid value encountered in double_scalars\n",
      "  g1 = -X[0] + X[1] ** 0.6 + X[2] ** 0.6 + X[3] ** 0.6\n",
      "E:\\Fu\\FD3\\functions\\G22.py:41: RuntimeWarning: invalid value encountered in log\n",
      "  h12 = abs(-X[17] + np.log(X[9] - 100.0)) - 0.0001\n",
      "E:\\Fu\\FD3\\functions\\G22.py:43: RuntimeWarning: invalid value encountered in log\n",
      "  h14 = abs(-X[19] + np.log(X[15])) - 0.0001\n",
      "E:\\Fu\\FD3\\functions\\G22.py:44: RuntimeWarning: invalid value encountered in log\n",
      "  h15 = abs(-X[20] + np.log(-X[8] + 400.0)) - 0.0001\n"
     ]
    },
    {
     "name": "stdout",
     "output_type": "stream",
     "text": [
      "Wall time: 16.9 s\n"
     ]
    }
   ],
   "source": [
    "%%time\n",
    "for i in range(24):\n",
    "    DE_fits[i].iterator()"
   ]
  },
  {
   "cell_type": "code",
   "execution_count": null,
   "metadata": {
    "pycharm": {
     "name": "#%%\n"
    }
   },
   "outputs": [],
   "source": []
  }
 ],
 "metadata": {
  "kernelspec": {
   "display_name": "Python 3",
   "language": "python",
   "name": "python3"
  },
  "language_info": {
   "codemirror_mode": {
    "name": "ipython",
    "version": 3
   },
   "file_extension": ".py",
   "mimetype": "text/x-python",
   "name": "python",
   "nbconvert_exporter": "python",
   "pygments_lexer": "ipython3",
   "version": "3.7.0"
  }
 },
 "nbformat": 4,
 "nbformat_minor": 1
}
