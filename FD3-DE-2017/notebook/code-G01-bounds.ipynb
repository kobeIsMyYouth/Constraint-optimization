{
 "cells": [
  {
   "cell_type": "code",
   "execution_count": 1,
   "metadata": {},
   "outputs": [],
   "source": [
    "import math\n",
    "from scipy.optimize import minimize\n",
    "import numpy as np\n",
    "import numpy as np\n",
    "from matplotlib import pyplot as plt"
   ]
  },
  {
   "cell_type": "code",
   "execution_count": 2,
   "metadata": {},
   "outputs": [],
   "source": [
    "bounds = [(0,1),(0,1),(0,1),(0,1),(0,1),(0,1),(0,1),(0,1),(0,1),(0,100),(0,100),(0,100),(0,1)]\n",
    "X_optimal = [1, 1, 1, 1, 1, 1, 1, 1, 1, 3, 3, 3, 1]\n",
    "y_optimal = -15\n",
    "def G01(X):\n",
    "    y = 5*(X[0]+X[1]+X[2]+X[3])-5*(X[0]**2+X[1]**2+X[2]**2+X[3]**2)-(X[4]+X[5]+X[6]+X[7]+X[8]+X[9]+X[10]+X[11]+X[12])\n",
    "    g1 = 2*X[0]+2*X[1]+X[9]+X[10]-10\n",
    "    g2 = 2*X[0]+2*X[2]+X[9]+X[11]-10\n",
    "    g3 = 2*X[1]+2*X[2]+X[10]+X[11]-10\n",
    "    g4 = -8*X[0]+X[9]\n",
    "    g5 = -8*X[1]+X[10]\n",
    "    g6 = -8*X[2]+X[11]\n",
    "    g7 = -2*X[3]-X[4]+X[9]\n",
    "    g8 = -2*X[5]-X[6]+X[10]\n",
    "    g9 = -2*X[7]-X[8]+X[11]\n",
    "    return y,g1,g2,g3,g4,g5,g6,g7,g8,g9"
   ]
  },
  {
   "cell_type": "code",
   "execution_count": 3,
   "metadata": {},
   "outputs": [
    {
     "data": {
      "image/png": "[encoded data removed]",
      "text/plain": [
       "<Figure size 432x288 with 1 Axes>"
      ]
     },
     "metadata": {
      "needs_background": "light"
     },
     "output_type": "display_data"
    }
   ],
   "source": [
    "pN = 100\n",
    "dim = 13\n",
    "keth = 0.5\n",
    "eta = 0.5\n",
    "X = np.zeros((pN, dim))\n",
    "fmax = 310\n",
    "vmax = 1182\n",
    "for i in range(pN):\n",
    "    for j in range(dim):\n",
    "        X[i][j] = bounds[j][0]+(bounds[j][1]-bounds[j][0])*np.random.random()\n",
    "\n",
    "fs = []    \n",
    "Vs = []\n",
    "for i in range(pN):\n",
    "    for j in range(pN):\n",
    "        if i != j:\n",
    "            deltaf = G01(X[i])[0] - G01(X[j])[0]\n",
    "            delraV = np.sum(G01(X[i])[1:10])-np.sum(G01(X[j])[1:10])\n",
    "            fs.append(deltaf)\n",
    "            Vs.append(delraV)\n",
    "\n",
    "plt.scatter(fs,Vs,s=1)\n",
    "plt.axhline(y=vmax, xmin=-fmax, xmax=fmax, color = \"black\", ls=\"--\", lw=\"1\")\n",
    "plt.axhline(y=-vmax, xmin=-fmax, xmax=fmax, color = \"black\",ls=\"--\", lw=\"1\")\n",
    "plt.axhline(y=vmax*keth, xmin=-fmax, xmax=fmax, color = \"black\",ls=\"--\", lw=\"1\")\n",
    "plt.axhline(y=-vmax*keth, xmin=-fmax, xmax=fmax, color = \"black\",ls=\"--\", lw=\"1\")\n",
    "plt.axhline(y=vmax*keth*eta, xmin=-fmax, xmax=fmax, color = \"black\",ls=\"--\", lw=\"1\")\n",
    "plt.axhline(y=-vmax*keth*eta, xmin=-fmax, xmax=fmax, color = \"black\",ls=\"--\", lw=\"1\")\n",
    "plt.axhline(y=0, xmin=-fmax, xmax=fmax, color = \"red\", ls=\"-\", lw=\"1\")\n",
    "\n",
    "plt.axvline(x=fmax, ymin=-vmax, ymax=vmax, color = \"black\",ls=\"--\", lw=\"1\")\n",
    "plt.axvline(x=-fmax, ymin=-vmax, ymax=vmax, color = \"black\",ls=\"--\", lw=\"1\")\n",
    "plt.axvline(x=fmax*eta, ymin=-vmax, ymax=vmax, color = \"black\",ls=\"--\", lw=\"1\")\n",
    "plt.axvline(x=-fmax*eta, ymin=-vmax, ymax=vmax, color = \"black\",ls=\"--\", lw=\"1\")\n",
    "plt.axvline(x=0, ymin=-vmax, ymax=vmax, color = \"red\",ls=\"-\", lw=\"1\")\n",
    "\n",
    "plt.show()"
   ]
  }
 ],
 "metadata": {
  "kernelspec": {
   "display_name": "Python 3",
   "language": "python",
   "name": "python3"
  },
  "language_info": {
   "codemirror_mode": {
    "name": "ipython",
    "version": 3
   },
   "file_extension": ".py",
   "mimetype": "text/x-python",
   "name": "python",
   "nbconvert_exporter": "python",
   "pygments_lexer": "ipython3",
   "version": "3.7.0"
  }
 },
 "nbformat": 4,
 "nbformat_minor": 4
}
