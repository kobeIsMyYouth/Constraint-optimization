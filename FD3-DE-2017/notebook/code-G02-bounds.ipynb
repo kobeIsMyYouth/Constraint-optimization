{
 "cells": [
  {
   "cell_type": "code",
   "execution_count": 1,
   "metadata": {},
   "outputs": [],
   "source": [
    "import math\n",
    "from scipy.optimize import minimize\n",
    "import numpy as np\n",
    "from matplotlib import pyplot as plt"
   ]
  },
  {
   "cell_type": "code",
   "execution_count": 2,
   "metadata": {},
   "outputs": [],
   "source": [
    "bounds = [(0.01, 10), (0.01, 10), (0.01, 10), (0.01, 10),(0.01, 10), \n",
    "          (0.01, 10), (0.01, 10), (0.01, 10), \n",
    "          (0.01, 10), (0.01, 10), (0.01, 10), (0.01, 10),(0.01, 10),\n",
    "          (0.01, 10), (0.01, 10), (0.01, 10), \n",
    "          (0.01, 10), (0.01, 10), (0.01, 10), (0.01, 10)]\n",
    "x_opt = [3.16246061572185, 3.12833142812967, 3.09479212988791, 3.06145059523469, 3.02792915885555, 2.99382606701730,\n",
    "         2.95866871765285, 2.92184227312450, 0.49482511456933, 0.48835711005490, 0.48231642711865, 0.47664475092742,\n",
    "         0.47129550835493, 0.46623099264167, 0.46142004984199, 0.45683664767217, 0.45245876903267, 0.44826762241853,\n",
    "         0.44424700958760, 0.44038285956317]\n",
    "y_opt = -0.80361910412559\n",
    "\n",
    "\n",
    "def G02(X):\n",
    "    n = 20\n",
    "    up_left, down = 0.0, 0.0\n",
    "    up_right = 1\n",
    "    for i in range(n):\n",
    "        up_left += (math.cos(X[i])) ** 4\n",
    "        up_right *= (math.cos(X[i])) ** 2\n",
    "        down += (i + 1) * X[i] * X[i]\n",
    "    y = -abs((up_left - 2 * up_right) / math.sqrt(down))\n",
    "    x_mul = 1\n",
    "    x_sum = 0.0\n",
    "    for i in range(n):\n",
    "        x_mul *= X[i]\n",
    "        x_sum += X[i]\n",
    "    g1 = 0.75 - x_mul\n",
    "    g2 = x_sum - 7.5 * n\n",
    "\n",
    "    return y, g1, g2"
   ]
  },
  {
   "cell_type": "code",
   "execution_count": 19,
   "metadata": {},
   "outputs": [
    {
     "data": {
      "image/png": "[encoded data removed]",
      "text/plain": [
       "<Figure size 432x288 with 1 Axes>"
      ]
     },
     "metadata": {
      "needs_background": "light"
     },
     "output_type": "display_data"
    }
   ],
   "source": [
    "pN = 100\n",
    "dim = 20\n",
    "keth = 0.5\n",
    "eta = 0.5\n",
    "X = np.zeros((pN, dim))\n",
    "fmax = 1\n",
    "vmax = 5\n",
    "for i in range(pN):\n",
    "    for j in range(dim):\n",
    "        X[i][j] = bounds[j][0]+(bounds[j][1]-bounds[j][0])*np.random.random()\n",
    "\n",
    "fs = []    \n",
    "Vs = []\n",
    "for i in range(pN):\n",
    "    for j in range(pN):\n",
    "        if i != j:\n",
    "            deltaf = G02(X[i])[0] - G02(X[j])[0]\n",
    "            delraV = np.sum(G02(X[i])[1:3])-np.sum(G02(X[j])[1:3])\n",
    "            fs.append(deltaf)\n",
    "            Vs.append(delraV)\n",
    "\n",
    "plt.scatter(fs,Vs,s=1)\n",
    "plt.axhline(y=vmax, xmin=-fmax, xmax=fmax, color = \"black\", ls=\"--\", lw=\"1\")\n",
    "plt.axhline(y=-vmax, xmin=-fmax, xmax=fmax, color = \"black\",ls=\"--\", lw=\"1\")\n",
    "plt.axhline(y=vmax*keth, xmin=-fmax, xmax=fmax, color = \"black\",ls=\"--\", lw=\"1\")\n",
    "plt.axhline(y=-vmax*keth, xmin=-fmax, xmax=fmax, color = \"black\",ls=\"--\", lw=\"1\")\n",
    "plt.axhline(y=vmax*keth*eta, xmin=-fmax, xmax=fmax, color = \"black\",ls=\"--\", lw=\"1\")\n",
    "plt.axhline(y=-vmax*keth*eta, xmin=-fmax, xmax=fmax, color = \"black\",ls=\"--\", lw=\"1\")\n",
    "plt.axhline(y=0, xmin=-fmax, xmax=fmax, color = \"red\", ls=\"-\", lw=\"1\")\n",
    "\n",
    "plt.axvline(x=fmax, ymin=-vmax, ymax=vmax, color = \"black\",ls=\"--\", lw=\"1\")\n",
    "plt.axvline(x=-fmax, ymin=-vmax, ymax=vmax, color = \"black\",ls=\"--\", lw=\"1\")\n",
    "plt.axvline(x=fmax*eta, ymin=-vmax, ymax=vmax, color = \"black\",ls=\"--\", lw=\"1\")\n",
    "plt.axvline(x=-fmax*eta, ymin=-vmax, ymax=vmax, color = \"black\",ls=\"--\", lw=\"1\")\n",
    "plt.axvline(x=0, ymin=-vmax, ymax=vmax, color = \"red\",ls=\"-\", lw=\"1\")\n",
    "\n",
    "plt.show()"
   ]
  },
  {
   "cell_type": "code",
   "execution_count": null,
   "metadata": {},
   "outputs": [],
   "source": []
  }
 ],
 "metadata": {
  "kernelspec": {
   "display_name": "Python 3",
   "language": "python",
   "name": "python3"
  },
  "language_info": {
   "codemirror_mode": {
    "name": "ipython",
    "version": 3
   },
   "file_extension": ".py",
   "mimetype": "text/x-python",
   "name": "python",
   "nbconvert_exporter": "python",
   "pygments_lexer": "ipython3",
   "version": "3.7.0"
  }
 },
 "nbformat": 4,
 "nbformat_minor": 4
}
