{
 "cells": [
  {
   "cell_type": "code",
   "execution_count": 1,
   "outputs": [],
   "source": [
    "import pandas as pd\n",
    "import numpy as np"
   ],
   "metadata": {
    "collapsed": false,
    "pycharm": {
     "name": "#%%\n"
    }
   }
  },
  {
   "cell_type": "code",
   "execution_count": 2,
   "outputs": [],
   "source": [
    "data1 = pd.read_excel(\"./Book1_100.xlsx\", dtype=\"str\")\n",
    "# data2 = pd.read_excel(\"./Book2.xlsx\", dtype=\"str\")\n",
    "data2 = pd.read_excel(\"./Book4_100.xlsx\", dtype=\"str\")"
   ],
   "metadata": {
    "collapsed": false,
    "pycharm": {
     "name": "#%%\n"
    }
   }
  },
  {
   "cell_type": "code",
   "execution_count": 3,
   "outputs": [
    {
     "name": "stdout",
     "output_type": "stream",
     "text": [
      "[ 5. 18. 17. 15. 17. 15.]\n",
      "[ 2.  9. 11. 12. 11. 13.]\n",
      "[21.  1.  0.  1.  0.  0.]\n"
     ]
    }
   ],
   "source": [
    "# 1vs2\n",
    "better_count = np.zeros((6))\n",
    "worst_count = np.zeros((6))\n",
    "equal_count = np.zeros((6))\n",
    "for i in range(28):\n",
    "    for j in range(6):\n",
    "        if '/' in data1.values[j][i]:\n",
    "            if '/' in data2.values[j][i]:\n",
    "                funs1, vios1 = data1.values[j][i].split('/', 1)\n",
    "                funs2, vios2 = data2.values[j][i].split('/', 1)\n",
    "                if float(funs1) < float(funs2): #and float(vios1) < float(vios2):\n",
    "                    better_count[j] += 1\n",
    "                elif float(funs1) > float(funs2): #and float(vios1) > float(vios2):\n",
    "                    worst_count[j] += 1\n",
    "                else:\n",
    "                    equal_count[j] += 1\n",
    "            else:\n",
    "                worst_count[j] += 1\n",
    "        else:\n",
    "            if '/' in data2.values[j][i]:\n",
    "                better_count[j] += 1\n",
    "                # if j == 3:\n",
    "                #     print(data1.values[j][i])\n",
    "                #     print(data2.values[j][i])\n",
    "                #     print(i)\n",
    "            else:\n",
    "                if float(data1.values[j][i]) < float(data2.values[j][i]):\n",
    "                    better_count[j] += 1\n",
    "                    # if j == 3:\n",
    "                    #     print(float(data1.values[j][i]))\n",
    "                    #     print(float(data2.values[j][i]))\n",
    "                    #     print(i)\n",
    "                elif float(data1.values[j][i]) > float(data2.values[j][i]):\n",
    "                    worst_count[j] += 1\n",
    "                else:\n",
    "                    equal_count[j] += 1\n",
    "\n",
    "print(better_count)\n",
    "print(worst_count)\n",
    "print(equal_count)"
   ],
   "metadata": {
    "collapsed": false,
    "pycharm": {
     "name": "#%%\n"
    }
   }
  },
  {
   "cell_type": "code",
   "execution_count": null,
   "outputs": [],
   "source": [],
   "metadata": {
    "collapsed": false,
    "pycharm": {
     "name": "#%%\n"
    }
   }
  }
 ],
 "metadata": {
  "kernelspec": {
   "display_name": "Python 3",
   "language": "python",
   "name": "python3"
  },
  "language_info": {
   "codemirror_mode": {
    "name": "ipython",
    "version": 3
   },
   "file_extension": ".py",
   "mimetype": "text/x-python",
   "name": "python",
   "nbconvert_exporter": "python",
   "pygments_lexer": "ipython3",
   "version": "3.7.0"
  }
 },
 "nbformat": 4,
 "nbformat_minor": 1
}